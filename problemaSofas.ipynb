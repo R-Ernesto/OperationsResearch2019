{
 "cells": [
  {
   "cell_type": "markdown",
   "metadata": {},
   "source": [
    "(problema de clase: 20 Ago 19, Rodolfo Ernesto Aviña Varela)\n",
    "# El problema de los Sofas\n",
    "\n",
    "En una empresa hacen dos tipos de sofas, A y B.\n",
    "\n",
    "#### Objetivo\n",
    "\n",
    "Maximizar $G=100A + 250B$\n",
    "\n",
    "#### Sujeto a\n",
    "\n",
    "1. $A + 2B \\leq 80$ \n",
    "2. $0.75A + 0.5B \\leq 20$\n",
    "3. $A \\leq 50$\n",
    "4. $B \\leq 10$"
   ]
  },
  {
   "cell_type": "markdown",
   "metadata": {},
   "source": [
    "Todos los conjuntos valores de A y B que satisfacen las 4 restricciones son soluciones posibles. Pero nosotros estamos buscando la óptima. Para hallarla exploraremos de momento dos técnicas, que son la misma idea vista desde dos perspectivas.\n",
    "\n",
    "## Solución optima por el método gráfico\n",
    "\n",
    "Graficamos las desigualdades 1 a 4 sustituyendo el signo de desigualdad por uno de igualdad. Se generará un polígono en el cuál todo punto en su interior o en la frontera constituye una solución.\n",
    "\n",
    "Para elegir la solución óptima se asignan valores crecientes arbitrarios a la función de ganancia y se grafica. Una característica importante de la solución de PL óptima es que siempre está asociada con un punto esquina del polígono de soluciones. Esto es cierto incluso si la función objetivo es paralela a una restricción, en cuyo caso la solución sería cualquier punto sobre ese lado del poligono."
   ]
  },
  {
   "cell_type": "code",
   "execution_count": 2,
   "metadata": {},
   "outputs": [],
   "source": [
    "import matplotlib.pyplot as plt # para graficar\n",
    "import numpy as np # manejo de matrices\n",
    "from itertools import combinations # combinaciones C(n,m)"
   ]
  },
  {
   "cell_type": "code",
   "execution_count": 16,
   "metadata": {},
   "outputs": [
    {
     "name": "stdout",
     "output_type": "stream",
     "text": [
      "Ganancia_0 = 0\n",
      "Ganancia_1 = 400\n",
      "Ganancia_2 = 800\n",
      "Ganancia_3 = 1200\n",
      "Ganancia_4 = 1600\n",
      "Ganancia_5 = 2000\n",
      "Ganancia_6 = 2400\n",
      "Ganancia_7 = 2800\n",
      "Ganancia_8 = 3200\n",
      "Ganancia_9 = 3600\n",
      "Ganancia_10 = 4000\n",
      "Ganancia_11 = 4400\n"
     ]
    },
    {
     "data": {
      "text/plain": [
       "(0, 60)"
      ]
     },
     "execution_count": 16,
     "metadata": {},
     "output_type": "execute_result"
    },
    {
     "data": {
      "image/png": "[encoded data removed]",
      "text/plain": [
       "<Figure size 432x288 with 1 Axes>"
      ]
     },
     "metadata": {
      "needs_background": "light"
     },
     "output_type": "display_data"
    }
   ],
   "source": [
    "A = np.linspace(0,120,120) # Generamos 120 numeros entre 0 y 120 igualmente espaciados\n",
    "R_3 = np.linspace(0,120,120)\n",
    "\n",
    "#restricciones\n",
    "B=[40-A/2.0,40 -1.5*A, R_3, 0*A + 10] # es un vector de restricciones\n",
    "\n",
    "# valores de z\n",
    "Zn = np.arange(0,5000,400)\n",
    "\n",
    "#graficar ecuaciones\n",
    "for i in range(4): # restricciones\n",
    "    if i == 2:\n",
    "        plt.plot(A*0+50,B[i],label=\"R_\"+str(i))\n",
    "    else:\n",
    "        plt.plot(A,B[i],label=B_names[i])\n",
    "\n",
    "for i in range(len(Zn)-1):\n",
    "    z = Zn[i]\n",
    "    print(\"Ganancia_\"+str(i)+\" = \"+str(z))\n",
    "    g = z/250.0 - 100.0*A/250.0 # ecuación de ganancia\n",
    "    plt.plot(A, g, linestyle=':')\n",
    "    \n",
    "# formato de la grafica\n",
    "plt.legend() \n",
    "plt.grid(all)\n",
    "plt.xlim(0,90)\n",
    "plt.ylim(0,60)"
   ]
  },
  {
   "cell_type": "markdown",
   "metadata": {},
   "source": [
    "La ecuación de ganacia 0 pasa por el origen, y al ir aumentandola la intersección de la ecuación de ganancia con el eje vertical es un número mayor. La ganancia 11 es la ecuación que pasa po el punto 20,10."
   ]
  },
  {
   "cell_type": "markdown",
   "metadata": {},
   "source": [
    "Al cambiar el valor de la ganancia nos damos cuenta que el punto que maximiza la ganancia está en (x,y)=(20,10), sin embargo la solución gráfica no es suficiente, habrá que hallar una solución analítica a este problema."
   ]
  },
  {
   "cell_type": "markdown",
   "metadata": {},
   "source": [
    "## Metodo algebraico\n",
    "\n",
    "El método algebráico da la solución o conjunto de soluciones analíticas del problema anterior. Es decir, hallamos los puntos donde se intersectan las restricciones y ya que sabemos que éstas corresponden a los puntos esquina, una de ellas es la solución óptima.\n",
    "\n",
    "Al convertir las desigualdades en igualdades, se agregan variables de \"holgura\", una por cada restricción. En los problemas de PL se estudian sistemas de ecuaciones, m ecuaciones y n incógnitas. Para hallar la solución a dichos sistemas generamos una matriz $m\\times n$ con del sistema de ecuaciones. Comunmente tenemos n>m, esto significa que tendremos una cantidad infinita de soluciones. Para poder resolver estos sistemas indeterminados hacemos que n-m incógnitas sean 0, usando todas las combinaciones $C^n_m$ de variables, una por iteración y se resuelve la matriz resultante (que ahora es una matriz cuadrada de $m\\times m$). En cada iteración lo que hallamos son un punto donde el sistema de ecuaciones se satisface o que quizá que el sistema no tiene solución para ese conjunto de variables igualadas a cero."
   ]
  },
  {
   "cell_type": "markdown",
   "metadata": {},
   "source": [
    "Aunque n=m es un sistema determinado rara vez se dan en PL porque, su solución es única y no haría falta igualar variables a cero."
   ]
  },
  {
   "cell_type": "code",
   "execution_count": 5,
   "metadata": {},
   "outputs": [
    {
     "name": "stdout",
     "output_type": "stream",
     "text": [
      "Esta es la matriz expandida:\n",
      "[[   1.   -100.   -250.      0.      0.  ]\n",
      " [   0.      0.75    0.5     1.      0.  ]\n",
      " [   0.      0.      1.      0.      1.  ]]\n"
     ]
    }
   ],
   "source": [
    "# coeficientes de la ecuación de ganancia, \n",
    "# los 2 últimos corresponden a las variables de holgura agregadas\n",
    "ganancia=[1,-100,-250,0, 0] \n",
    "\n",
    "# solo se tomaron la restriccion 2 y 4 porque como podemos\n",
    "# ver la gráfica las restricciones 1 y 3 no generan la región\n",
    "# de soluciones.\n",
    "restriccion2=[0, 3/4.0, 1/2.0, 1, 0] \n",
    "restriccion4=[0, 0, 1, 0, 1]\n",
    "\n",
    "# terminos independientes de las 3 ec.s anteriores,\n",
    "# el primero corresponde a la ganancia y los otros dos a las \n",
    "# restricciones 2 y 4\n",
    "C=[0,20,10] \n",
    "C=np.array(C) #conversión de la lista C a un arreglo numpy\n",
    "\n",
    "matriz_expandida = [ganancia,restriccion2,restriccion4]\n",
    "S = np.array(matriz_expandida, dtype=float)\n",
    "print(\"Esta es la matriz expandida:\")\n",
    "print(S)"
   ]
  },
  {
   "cell_type": "code",
   "execution_count": 7,
   "metadata": {},
   "outputs": [
    {
     "name": "stdout",
     "output_type": "stream",
     "text": [
      "Todas las posibles combinaciones de variables cero que hacen a la matriz una matriz cuadrada.\n",
      "[(1, 2), (1, 3), (1, 4), (1, 5), (2, 3), (2, 4), (2, 5), (3, 4), (3, 5), (4, 5)]\n"
     ]
    }
   ],
   "source": [
    "# El atributo shape devuelve la forma de la matriz, \n",
    "# en este caso (3,5), el indice del primer elemento es cero\n",
    "n = S.shape[1] \n",
    "m = S.shape[0]\n",
    "\n",
    "# Generando todas las posibles combinaciones de 2 variables igualas a cero\n",
    "solNB = [x for x in combinations(range(1,n+1),n-m)]\n",
    "print(\"Todas las posibles combinaciones de variables cero que hacen a la matriz una matriz cuadrada.\")\n",
    "print(solNB)"
   ]
  },
  {
   "cell_type": "code",
   "execution_count": 8,
   "metadata": {},
   "outputs": [],
   "source": [
    "# Estas funciones sirven para eliminar columnas dadas las incógnitas que se deben igualar a cero en cada iteración\n",
    "def remjc(A, j):\n",
    "    '''remjrc (remove j column) substracts the i+1-th column from agiven matrix\n",
    "        B = mip1(A,j)\n",
    "        A, the matrix\n",
    "        j, the column that want to remove, j must be >= 1\n",
    "        B, the returned matrix\n",
    "        '''\n",
    "    #verifing j>=1\n",
    "    if(j<1):\n",
    "        return print(\"j>=1 !, take the first row, col as 1, not as 0\")\n",
    "    i=j-1\n",
    "    \n",
    "    #removing j-th col\n",
    "    Al, Am, Ar = np.hsplit(A,[i,i+1])\n",
    "    A2 = np.hstack([Al,Ar])\n",
    "    return A2\n",
    "\n",
    "''' De la matriz original, quitar las incognitas q1, q1, ..., q(n)'''\n",
    "def remq(A,q):\n",
    "    '''remover q incógnitas de una matriz rectangular\n",
    "        q debe ser dado en orden con q1<q2<...<qn''' \n",
    "    #casting tuple to list\n",
    "    q = [ qi for qi in q]\n",
    "    \n",
    "    #verifing ordered list\n",
    "    for i in range(len(q)-1):\n",
    "        for j in np.arange(i,len(q)):            \n",
    "            if q[i]>q[j]:\n",
    "                return print(\"error: remq(A,q) , escribir q en orden: q[0]<q[1]<...<q[len(q)-1]\")\n",
    "    \n",
    "    i=0    \n",
    "    for qi in q:\n",
    "        A = remjc(A,qi)\n",
    "        if (i+1)<=(len(q)-1):\n",
    "            q[i+1]=q[i+1]-(i+1)\n",
    "        else:\n",
    "            return A\n",
    "        i = i + 1"
   ]
  },
  {
   "cell_type": "code",
   "execution_count": 12,
   "metadata": {},
   "outputs": [
    {
     "name": "stdout",
     "output_type": "stream",
     "text": [
      "...................................\n",
      "¿Cómo leer las soluciones?\n",
      "...................................\n",
      "1: Las incognitas son: z, x, y, h1, h2\n",
      "2: Si las incógnitas igualadas a cero son, por ejemplo x, h1:\n",
      "3: Y la solución mostrada es, por ejemplo:\n",
      "4: [-0. 20. 10.]\n",
      "5: Entonces, llendo en orden según las incógnitas fueron mostradas en la línea 1,\n",
      " quitando las incógnitas igualadas a cero, la solución debe leerse, para este ejemplo como:\n",
      "6: Z=-0, y=20, h2=10\n",
      "-----------------------------------\n",
      "incógnitas igualadas a cero: z , x\n",
      "[-0. 20. 10.]\n",
      "-----------------------------------\n",
      "incógnitas igualadas a cero: z , y\n",
      "[-0. 20. 10.]\n",
      "-----------------------------------\n",
      "incógnitas igualadas a cero: z , h1\n",
      "[ 36.36363636 -14.54545455  24.54545455]\n",
      "!: solución descartada por criterio de no-negatividad\n",
      "-----------------------------------\n",
      "incógnitas igualadas a cero: z , h2\n",
      "[-25.    10.    33.75]\n",
      "!: solución descartada por criterio de no-negatividad\n",
      "-----------------------------------\n",
      "incógnitas igualadas a cero: x , y\n",
      "[ 0. 20. 10.]\n",
      "-----------------------------------\n",
      "incógnitas igualadas a cero: x , h1\n",
      "[10000.    40.   -30.]\n",
      "!: solución descartada por criterio de no-negatividad\n",
      "-----------------------------------\n",
      "incógnitas igualadas a cero: x , h2\n",
      "[2500.   10.   15.]\n",
      "-----------------------------------\n",
      "incógnitas igualadas a cero: y , h1\n",
      "[2666.66666667   26.66666667   10.        ]\n",
      "-----------------------------------\n",
      "incógnitas igualadas a cero: y , h2\n",
      "!: solucion indeterminada\n",
      "[[   1.   -100.      0.  ]\n",
      " [   0.      0.75    1.  ]\n",
      " [   0.      0.      0.  ]]\n",
      "uno de los renglones es cero, o dos renglones son multiplos, el det(M)=0\n",
      "-----------------------------------\n",
      "incógnitas igualadas a cero: h1 , h2\n",
      "[4500.   20.   10.]\n"
     ]
    }
   ],
   "source": [
    "# definimos el nombre de las incognitas, la primera es z, indice 0,\n",
    "# la segunda es x, indice 1 y asi susesivamente.\n",
    "incognitas = ['z','x','y','h1','h2'] \n",
    "\n",
    "\n",
    "# cómo leer las soluciones\n",
    "print(\"...................................\")\n",
    "print(\"¿Cómo leer las soluciones?\")\n",
    "print(\"...................................\")\n",
    "print(\"1: Las incognitas son: z, x, y, h1, h2\")\n",
    "print(\"2: Si las incógnitas igualadas a cero son, por ejemplo x, h1:\")\n",
    "print(\"3: Y la solución mostrada es, por ejemplo:\")\n",
    "print(\"4: [-0. 20. 10.]\")\n",
    "print(\"5: Entonces, llendo en orden según las incógnitas fueron mostradas en la línea 1,\\n quitando las incógnitas igualadas a cero, la solución debe leerse, para este ejemplo como:\")\n",
    "print(\"6: Z=-0, y=20, h2=10\")\n",
    "\n",
    "for solNBi in solNB: # para cada una de las combinaciones de incognitas igualadas a cero    \n",
    "    M=remq(S,solNBi) # de la matriz expandida remueve las columnas que correspondan a esas incognitas\n",
    "    \n",
    "    # imprimir la solución de la ahora matriz cuadrada\n",
    "    # sin las incognitas igualadas a cero\n",
    "    print(\"-----------------------------------\")\n",
    "    print(\"incógnitas igualadas a cero: \"+ incognitas[solNBi[0]-1]+\" , \"+ incognitas[solNBi[1]-1])\n",
    "    \n",
    "    # revisa si la matriz es determinada, si es indeterminada el det(M)=0\n",
    "    if np.linalg.det(M) != 0: # si el determinante de M es distinto de 0, \n",
    "        Q=np.linalg.solve(M,C) # entonces halla la solución de la ecuación matricial M X = C           \n",
    "        print(Q) # imprime el resultado\n",
    "        if Q[0]<0 or Q[1]<0 or Q[2]<0: # en caso de que alguna de las respuestas sea menor a cero\n",
    "            # la descartamos porque las soluciones deben ser positivas\n",
    "            print(\"!: solución descartada por criterio de no-negatividad\")\n",
    "    else: #si el determinante es cero, avísame!\n",
    "        print(\"!: solucion indeterminada\")\n",
    "        print(M)\n",
    "        print(\"uno de los renglones es cero, o dos renglones son multiplos, el det(M)=0\")"
   ]
  },
  {
   "cell_type": "markdown",
   "metadata": {},
   "source": [
    "Analizando las soluciones dadas tenemos que la ganacia es máxima en (x,y)=(20,10). Como habíamos hallado por el método gráfico."
   ]
  }
 ],
 "metadata": {
  "kernelspec": {
   "display_name": "Python 3",
   "language": "python",
   "name": "python3"
  },
  "language_info": {
   "codemirror_mode": {
    "name": "ipython",
    "version": 3
   },
   "file_extension": ".py",
   "mimetype": "text/x-python",
   "name": "python",
   "nbconvert_exporter": "python",
   "pygments_lexer": "ipython3",
   "version": "3.7.3"
  }
 },
 "nbformat": 4,
 "nbformat_minor": 4
}
